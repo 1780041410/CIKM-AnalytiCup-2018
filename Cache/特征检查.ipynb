{
 "cells": [
  {
   "cell_type": "code",
   "execution_count": 1,
   "metadata": {},
   "outputs": [],
   "source": [
    "import pickle"
   ]
  },
  {
   "cell_type": "code",
   "execution_count": 2,
   "metadata": {},
   "outputs": [],
   "source": [
    "with open('token_train', 'rb') as pkl:\n",
    "    _, _, left, right, label = pickle.load(pkl)"
   ]
  },
  {
   "cell_type": "code",
   "execution_count": 8,
   "metadata": {},
   "outputs": [
    {
     "name": "stdout",
     "output_type": "stream",
     "text": [
      "65\n",
      "205\n",
      "11.38225\n"
     ]
    }
   ],
   "source": [
    "cnt = 0 \n",
    "max_length = 0\n",
    "avg = 0\n",
    "\n",
    "for i in range(len(left)):\n",
    "    avg += len(left[i])\n",
    "    if len(left[i]) > max_length:\n",
    "        max_length = len(left[i])\n",
    "    if len(left[i]) > 50:\n",
    "        cnt += 1\n",
    "\n",
    "for i in range(len(right)):\n",
    "    avg += len(right[i])\n",
    "    if len(right[i]) > max_length:\n",
    "        max_length = len(right[i])\n",
    "    if len(right[i]) > 50:\n",
    "        cnt += 1\n",
    "        \n",
    "print(max_length)\n",
    "print(cnt)\n",
    "print(avg/(len(left) + len(right)))"
   ]
  },
  {
   "cell_type": "code",
   "execution_count": 13,
   "metadata": {},
   "outputs": [],
   "source": [
    "with open('token_dev', 'rb') as pkl:\n",
    "    _, _, left_dev, right_dev, label_dev = pickle.load(pkl)"
   ]
  },
  {
   "cell_type": "code",
   "execution_count": 14,
   "metadata": {},
   "outputs": [
    {
     "name": "stdout",
     "output_type": "stream",
     "text": [
      "61\n",
      "10\n",
      "14.403214285714286\n"
     ]
    }
   ],
   "source": [
    "cnt = 0 \n",
    "max_length = 0\n",
    "avg = 0\n",
    "\n",
    "for i in range(len(left_dev)):\n",
    "    avg += len(left_dev[i])\n",
    "    if len(left_dev[i]) > max_length:\n",
    "        max_length = len(left_dev[i])\n",
    "    if len(left_dev[i]) > 50:\n",
    "        cnt += 1\n",
    "\n",
    "for i in range(len(right_dev)):\n",
    "    avg += len(right_dev[i])\n",
    "    if len(right_dev[i]) > max_length:\n",
    "        max_length = len(right_dev[i])\n",
    "    if len(right_dev[i]) > 50:\n",
    "        cnt += 1\n",
    "\n",
    "print(max_length)\n",
    "print(cnt)\n",
    "print(avg/(len(left_dev) + len(right_dev)))"
   ]
  },
  {
   "cell_type": "code",
   "execution_count": null,
   "metadata": {},
   "outputs": [],
   "source": []
  }
 ],
 "metadata": {
  "kernelspec": {
   "display_name": "Python 3",
   "language": "python",
   "name": "python3"
  },
  "language_info": {
   "codemirror_mode": {
    "name": "ipython",
    "version": 3
   },
   "file_extension": ".py",
   "mimetype": "text/x-python",
   "name": "python",
   "nbconvert_exporter": "python",
   "pygments_lexer": "ipython3",
   "version": "3.6.2rc1"
  }
 },
 "nbformat": 4,
 "nbformat_minor": 2
}
