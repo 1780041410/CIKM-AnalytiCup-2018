{
 "cells": [
  {
   "cell_type": "code",
   "execution_count": 9,
   "metadata": {},
   "outputs": [],
   "source": [
    "abcnn = []\n",
    "xgboost = []\n",
    "LexDecomp = []"
   ]
  },
  {
   "cell_type": "code",
   "execution_count": 2,
   "metadata": {},
   "outputs": [
    {
     "data": {
      "text/plain": [
       "1191"
      ]
     },
     "execution_count": 2,
     "metadata": {},
     "output_type": "execute_result"
    }
   ],
   "source": [
    "cnt=0\n",
    "with open('ABCNN3-submit——0.40833.txt', 'r') as fr:\n",
    "    lines = fr.readlines()\n",
    "    for line in lines:\n",
    "        abcnn.append(float(line.strip().split(' ')[0]))\n",
    "        if float(line.strip().split(' ')[0]) > 0.5:\n",
    "            cnt += 1\n",
    "cnt"
   ]
  },
  {
   "cell_type": "code",
   "execution_count": 3,
   "metadata": {},
   "outputs": [
    {
     "name": "stdout",
     "output_type": "stream",
     "text": [
      "0.2699541363665834\n"
     ]
    }
   ],
   "source": [
    "print(sum(abcnn)/len(abcnn))"
   ]
  },
  {
   "cell_type": "code",
   "execution_count": 4,
   "metadata": {},
   "outputs": [
    {
     "data": {
      "text/plain": [
       "858"
      ]
     },
     "execution_count": 4,
     "metadata": {},
     "output_type": "execute_result"
    }
   ],
   "source": [
    "cnt = 0\n",
    "with open('xgboost_human_feature-summit——0.40224.txt', 'r') as fr:\n",
    "    lines = fr.readlines()\n",
    "    for line in lines:\n",
    "        xgboost.append(float(line.strip().split(' ')[0]))\n",
    "        if float(line.strip().split(' ')[0]) > 0.5:\n",
    "            cnt+=1\n",
    "cnt"
   ]
  },
  {
   "cell_type": "code",
   "execution_count": 5,
   "metadata": {},
   "outputs": [
    {
     "name": "stdout",
     "output_type": "stream",
     "text": [
      "0.23482490594000038\n"
     ]
    }
   ],
   "source": [
    "print(sum(xgboost)/len(xgboost))"
   ]
  },
  {
   "cell_type": "code",
   "execution_count": 10,
   "metadata": {},
   "outputs": [
    {
     "data": {
      "text/plain": [
       "1101"
      ]
     },
     "execution_count": 10,
     "metadata": {},
     "output_type": "execute_result"
    }
   ],
   "source": [
    "cnt = 0\n",
    "with open('LexDecomp-submit——0.41079.txt', 'r') as fr:\n",
    "    lines = fr.readlines()\n",
    "    for line in lines:\n",
    "        LexDecomp.append(float(line.strip().split(' ')[0]))\n",
    "        if float(line.strip().split(' ')[0]) > 0.5:\n",
    "            cnt+=1\n",
    "cnt"
   ]
  },
  {
   "cell_type": "code",
   "execution_count": 11,
   "metadata": {},
   "outputs": [
    {
     "name": "stdout",
     "output_type": "stream",
     "text": [
      "0.24673159996628455\n"
     ]
    }
   ],
   "source": [
    "print(sum(LexDecomp)/len(LexDecomp))        "
   ]
  },
  {
   "cell_type": "code",
   "execution_count": 12,
   "metadata": {},
   "outputs": [],
   "source": [
    "en_ABCNN, en_LexDecomp = [], []"
   ]
  },
  {
   "cell_type": "code",
   "execution_count": 13,
   "metadata": {},
   "outputs": [
    {
     "data": {
      "text/plain": [
       "1086"
      ]
     },
     "execution_count": 13,
     "metadata": {},
     "output_type": "execute_result"
    }
   ],
   "source": [
    "cnt=0\n",
    "with open('en_ABCNN3-submit.txt', 'r') as fr:\n",
    "    lines = fr.readlines()\n",
    "    for line in lines:\n",
    "        en_ABCNN.append(float(line.strip().split(' ')[0]))\n",
    "        if float(line.strip().split(' ')[0]) > 0.5:\n",
    "            cnt += 1\n",
    "cnt"
   ]
  },
  {
   "cell_type": "code",
   "execution_count": 14,
   "metadata": {},
   "outputs": [
    {
     "name": "stdout",
     "output_type": "stream",
     "text": [
      "0.23687190527771018\n"
     ]
    }
   ],
   "source": [
    "print(sum(en_ABCNN)/len(en_ABCNN))"
   ]
  },
  {
   "cell_type": "code",
   "execution_count": 17,
   "metadata": {},
   "outputs": [
    {
     "data": {
      "text/plain": [
       "1207"
      ]
     },
     "execution_count": 17,
     "metadata": {},
     "output_type": "execute_result"
    }
   ],
   "source": [
    "cnt=0\n",
    "with open('en_LexDecomp-submit.txt', 'r') as fr:\n",
    "    lines = fr.readlines()\n",
    "    for line in lines:\n",
    "        en_LexDecomp.append(float(line.strip().split(' ')[0]))\n",
    "        if float(line.strip().split(' ')[0]) > 0.5:\n",
    "            cnt += 1\n",
    "cnt"
   ]
  },
  {
   "cell_type": "code",
   "execution_count": 18,
   "metadata": {},
   "outputs": [
    {
     "name": "stdout",
     "output_type": "stream",
     "text": [
      "0.23685345058726906\n"
     ]
    }
   ],
   "source": [
    "print(sum(en_LexDecomp)/len(en_LexDecomp))"
   ]
  },
  {
   "cell_type": "code",
   "execution_count": null,
   "metadata": {},
   "outputs": [],
   "source": []
  }
 ],
 "metadata": {
  "kernelspec": {
   "display_name": "Python 3",
   "language": "python",
   "name": "python3"
  },
  "language_info": {
   "codemirror_mode": {
    "name": "ipython",
    "version": 3
   },
   "file_extension": ".py",
   "mimetype": "text/x-python",
   "name": "python",
   "nbconvert_exporter": "python",
   "pygments_lexer": "ipython3",
   "version": "3.6.2rc1"
  }
 },
 "nbformat": 4,
 "nbformat_minor": 2
}
